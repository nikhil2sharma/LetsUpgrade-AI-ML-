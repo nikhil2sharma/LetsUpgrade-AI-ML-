{
 "cells": [
  {
   "cell_type": "code",
   "execution_count": null,
   "metadata": {},
   "outputs": [],
   "source": [
    "#Assignment Solution\n",
    "#Day-4_03_09_2020\n",
    "#By  : Nikhil Sharma\n",
    "#Date_Of_Completion : 04-09-2020"
   ]
  },
  {
   "cell_type": "code",
   "execution_count": null,
   "metadata": {},
   "outputs": [],
   "source": [
    "# Question 1 : Research on whether addition, subtraction, multiplication, division, floor\n",
    "# division, and modulo operations be performed on complex numbers. Based on your study,\n",
    "# implement a Python program to demonstrate these operations\n",
    "\n",
    "a=5+2j\n",
    "b=1+1j\n",
    "\n",
    "print('Addition on complex number',a+b) #Addition on complex number\n",
    "print('Substraction on complex number',a-b) #Substraction on complex number\n",
    "print('Multipication on complex number',a*b) #Multipication on complex number\n",
    "print('Division on complex number',a/b) #Division on complex number\n",
    "print('Modulo on complex number',(((a.real)**2 + (a.imag)**2))**0.5) #Modulo on complex number cant work for version 3\n",
    "\n"
   ]
  },
  {
   "cell_type": "code",
   "execution_count": null,
   "metadata": {},
   "outputs": [],
   "source": [
    "# Question 2 : Research on range() functions and its parameters. Create a markdown cell and\n",
    "# write in your own words (no copy-paste from google please) what you understand about it.\n",
    "# Implement a small program of your choice on the same.\n"
   ]
  },
  {
   "cell_type": "markdown",
   "metadata": {},
   "source": [
    "# Range :(Defination) \n",
    "## Range function to gerate sequence of numbers(immutable(can not be changed) \n",
    "## Range takes three arguments start_point,end_point and step_size\n",
    "## It returns sequence which starts from the start_point and ends at end_point-1\n"
   ]
  },
  {
   "cell_type": "code",
   "execution_count": 7,
   "metadata": {},
   "outputs": [
    {
     "name": "stdout",
     "output_type": "stream",
     "text": [
      "1\n",
      "2\n",
      "3\n",
      "4\n",
      "1\n",
      "3\n"
     ]
    }
   ],
   "source": [
    "#Example for range function\n",
    "for elem in range(1,5):\n",
    "    print(elem)\n",
    "#Range demonstration with step_size\n",
    "for elem in range(1,5,2):\n",
    "    print(elem)"
   ]
  },
  {
   "cell_type": "code",
   "execution_count": 8,
   "metadata": {},
   "outputs": [
    {
     "name": "stdout",
     "output_type": "stream",
     "text": [
      "Division result as output of substraction of 2 nos. is not greater than 25 :>> 0.5\n"
     ]
    }
   ],
   "source": [
    "# Question 3: Consider two numbers. Perform their subtraction and if the result of subtraction is\n",
    "# greater than 25, print their multiplication result else print their division result.\n",
    "a=2 ;b=4\n",
    "\n",
    "if (a-b)>25:\n",
    "    print('Multipication result as output of substraction of 2 nos. is greater than 25 : >>',a*b)\n",
    "else:\n",
    "    print('Division result as output of substraction of 2 nos. is not greater than 25 :>>',a/b)"
   ]
  },
  {
   "cell_type": "code",
   "execution_count": 9,
   "metadata": {},
   "outputs": [
    {
     "name": "stdout",
     "output_type": "stream",
     "text": [
      "2\n",
      "14\n",
      "34\n",
      "62\n",
      "98\n"
     ]
    }
   ],
   "source": [
    "# Question 4: Consider a list of 10 elements of integer values. If the number in the list is divisible by 2,\n",
    "# print the result as \"square of that number minus 2\".\n",
    "\n",
    "numbers=range(1,11)\n",
    "for elem in numbers:\n",
    "    if elem%2==0:\n",
    "        print((elem**2)-2)\n"
   ]
  },
  {
   "cell_type": "code",
   "execution_count": 10,
   "metadata": {},
   "outputs": [
    {
     "name": "stdout",
     "output_type": "stream",
     "text": [
      "Element which are greater than 7 when divided by 2 18\n",
      "Element which are greater than 7 when divided by 2 20\n",
      "Element which are greater than 7 when divided by 2 24\n",
      "Element which are greater than 7 when divided by 2 24\n"
     ]
    }
   ],
   "source": [
    "# Question 5: Consider a list of 10 elements.Print all the elements in the list\n",
    "# which are greater than 7 when that number is divided 2.\n",
    "l3=[2,4,18,6,20,24,1,0,24,12]\n",
    "\n",
    "for elem in l3:\n",
    "    if elem/2 > 7:\n",
    "        print('Element which are greater than 7 when divided by 2',elem)\n"
   ]
  },
  {
   "cell_type": "code",
   "execution_count": null,
   "metadata": {},
   "outputs": [],
   "source": []
  },
  {
   "cell_type": "code",
   "execution_count": null,
   "metadata": {},
   "outputs": [],
   "source": []
  }
 ],
 "metadata": {
  "kernelspec": {
   "display_name": "Python 3",
   "language": "python",
   "name": "python3"
  },
  "language_info": {
   "codemirror_mode": {
    "name": "ipython",
    "version": 3
   },
   "file_extension": ".py",
   "mimetype": "text/x-python",
   "name": "python",
   "nbconvert_exporter": "python",
   "pygments_lexer": "ipython3",
   "version": "3.8.5"
  }
 },
 "nbformat": 4,
 "nbformat_minor": 4
}
